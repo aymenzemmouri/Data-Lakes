{
 "cells": [
  {
   "cell_type": "markdown",
   "metadata": {},
   "source": [
    "📄 Script Python : hackernews_fetcher.py"
   ]
  },
  {
   "cell_type": "code",
   "execution_count": null,
   "metadata": {},
   "outputs": [],
   "source": [
    "import requests\n",
    "import json\n",
    "import argparse\n",
    "from pathlib import Path\n",
    "\n",
    "# URLs de l'API HackerNews\n",
    "TOP_STORIES_URL = \"https://hacker-news.firebaseio.com/v0/topstories.json\"\n",
    "ITEM_URL = \"https://hacker-news.firebaseio.com/v0/item/{}.json\"\n",
    "\n",
    "# Dossier de stockage\n",
    "RAW_DATA_DIR = Path(\"raw_data\")\n",
    "RAW_DATA_DIR.mkdir(parents=True, exist_ok=True)\n",
    "\n",
    "def get_top_story_ids(limit):\n",
    "    \"\"\"\n",
    "    Récupère les IDs des meilleures actualités.\n",
    "    \"\"\"\n",
    "    response = requests.get(TOP_STORIES_URL)\n",
    "    if response.status_code != 200:\n",
    "        raise Exception(f\"Erreur API: {response.status_code}\")\n",
    "    story_ids = response.json()\n",
    "    return story_ids[:limit]\n",
    "\n",
    "def get_story_details(story_id):\n",
    "    \"\"\"\n",
    "    Récupère les détails d'une actualité.\n",
    "    \"\"\"\n",
    "    response = requests.get(ITEM_URL.format(story_id))\n",
    "    if response.status_code != 200:\n",
    "        print(f\"⚠️ Impossible de récupérer l'ID {story_id}\")\n",
    "        return None\n",
    "    return response.json()\n",
    "\n",
    "def save_to_file(data, filename):\n",
    "    \"\"\"\n",
    "    Sauvegarde les données JSON dans un fichier.\n",
    "    \"\"\"\n",
    "    file_path = RAW_DATA_DIR / filename\n",
    "    with open(file_path, 'w', encoding='utf-8') as file:\n",
    "        json.dump(data, file, ensure_ascii=False, indent=4)\n",
    "    print(f\"✅ Données sauvegardées dans {file_path}\")\n",
    "\n",
    "def main():\n",
    "    \"\"\"\n",
    "    Point d'entrée principal.\n",
    "    \"\"\"\n",
    "    parser = argparse.ArgumentParser(description=\"Récupère les dernières actualités de HackerNews.\")\n",
    "    parser.add_argument(\"--limit\", type=int, default=50, help=\"Nombre d'actualités à récupérer (défaut: 50)\")\n",
    "    args = parser.parse_args()\n",
    "    \n",
    "    print(\"🚀 Récupération des dernières actualités de HackerNews...\")\n",
    "    \n",
    "    # Étape 1 : Récupérer les IDs\n",
    "    story_ids = get_top_story_ids(args.limit)\n",
    "    print(f\"📰 {len(story_ids)} IDs récupérés.\")\n",
    "    \n",
    "    # Étape 2 : Récupérer les détails des actualités\n",
    "    stories = []\n",
    "    for i, story_id in enumerate(story_ids, start=1):\n",
    "        print(f\"🔄 Récupération de l'article {i}/{len(story_ids)} (ID: {story_id})\")\n",
    "        story_details = get_story_details(story_id)\n",
    "        if story_details:\n",
    "            stories.append(story_details)\n",
    "    \n",
    "    # Étape 3 : Sauvegarder les résultats\n",
    "    save_to_file(stories, \"hackernews_raw_data.json\")\n",
    "    print(\"🎉 Processus terminé avec succès !\")\n",
    "\n",
    "if __name__ == \"__main__\":\n",
    "    main()"
   ]
  },
  {
   "cell_type": "code",
   "execution_count": null,
   "metadata": {},
   "outputs": [],
   "source": []
  },
  {
   "cell_type": "code",
   "execution_count": null,
   "metadata": {},
   "outputs": [],
   "source": []
  },
  {
   "cell_type": "markdown",
   "metadata": {},
   "source": [
    "📌 Code Python pour créer l’index hackernews dans Elasticsearch"
   ]
  },
  {
   "cell_type": "code",
   "execution_count": 1,
   "metadata": {},
   "outputs": [
    {
     "name": "stdout",
     "output_type": "stream",
     "text": [
      "✅ Index 'hackernews' créé avec succès !\n"
     ]
    }
   ],
   "source": [
    "import requests\n",
    "import json\n",
    "\n",
    "# URL d'Elasticsearch\n",
    "url = \"http://localhost:9200/hackernews\"\n",
    "\n",
    "# En-têtes HTTP\n",
    "headers = {\n",
    "    \"Content-Type\": \"application/json\"\n",
    "}\n",
    "\n",
    "# Corps de la requête (JSON Mapping)\n",
    "data = {\n",
    "    \"mappings\": {\n",
    "        \"properties\": {\n",
    "            \"id\": {\"type\": \"integer\"},\n",
    "            \"title\": {\"type\": \"text\"},\n",
    "            \"content\": {\"type\": \"text\"},\n",
    "            \"url\": {\"type\": \"keyword\"},\n",
    "            \"score\": {\"type\": \"integer\"},\n",
    "            \"timestamp\": {\"type\": \"date\"}\n",
    "        }\n",
    "    }\n",
    "}\n",
    "\n",
    "# Exécution de la requête PUT\n",
    "response = requests.put(url, headers=headers, data=json.dumps(data))\n",
    "\n",
    "# Affichage de la réponse\n",
    "if response.status_code == 200 or response.status_code == 201:\n",
    "    print(\"✅ Index 'hackernews' créé avec succès !\")\n",
    "else:\n",
    "    print(f\"❌ Erreur {response.status_code}: {response.text}\")"
   ]
  }
 ],
 "metadata": {
  "kernelspec": {
   "display_name": ".venv",
   "language": "python",
   "name": "python3"
  },
  "language_info": {
   "codemirror_mode": {
    "name": "ipython",
    "version": 3
   },
   "file_extension": ".py",
   "mimetype": "text/x-python",
   "name": "python",
   "nbconvert_exporter": "python",
   "pygments_lexer": "ipython3",
   "version": "3.9.16"
  }
 },
 "nbformat": 4,
 "nbformat_minor": 2
}
